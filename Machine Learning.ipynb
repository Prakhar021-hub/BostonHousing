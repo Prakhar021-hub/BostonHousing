{
 "cells": [
  {
   "cell_type": "code",
   "execution_count": null,
   "id": "7abd76ab-b5a3-4a99-9069-1af9d7180b00",
   "metadata": {},
   "outputs": [
    {
     "ename": "",
     "evalue": "",
     "output_type": "error",
     "traceback": [
      "\u001b[1;31mRunning cells with 'env (Python 3.10.16)' requires the ipykernel package.\n",
      "\u001b[1;31mInstall 'ipykernel' into the Python environment. \n",
      "\u001b[1;31mCommand: 'conda install -p f:\\ml boston project\\BostonHousing\\env ipykernel --update-deps --force-reinstall'"
     ]
    }
   ],
   "source": [
    "import numpy as np\n",
    "import pandas as pd\n",
    "import matplotlib.pyplot as plt\n",
    "import seaborn as sns\n"
   ]
  },
  {
   "cell_type": "markdown",
   "id": "bf7c79ad-df5f-43f6-bf3a-f64bb534e72d",
   "metadata": {},
   "source": [
    "## Description of the dataset"
   ]
  },
  {
   "cell_type": "raw",
   "id": "a98ade61-9928-4f67-a032-b98cb7cca3fb",
   "metadata": {},
   "source": [
    "\n",
    "CRIM -\tPer capita crime rate by town\n",
    "ZN\t- Proportion of residential land zoned for large lots\n",
    "INDUS -\tProportion of non-retail business acres per town\n",
    "CHAS -\tCharles River dummy variable (1 if tract bounds river; 0 otherwise)\n",
    "NOX - \tNitric oxide concentration (parts per 10 million)\n",
    "RM -\tAverage number of rooms per dwelling\n",
    "AGE\t - Proportion of owner-occupied units built before 1940\n",
    "DIS\t- Weighted distances to 5 Boston employment centers\n",
    "RAD\t - Index of accessibility to radial highways\n",
    "TAX -\tFull value property-tax rate per $10,000\n",
    "PTRATIO - \tPupil-teacher ratio by town\n",
    "B - \t1000(Bk - 0.63)^2, where Bk is the proportion of Black residents\n",
    "LSTAT - \t% lower status of the population\n",
    "\n",
    "\n",
    "target column\n",
    "\n",
    "MEDV -\tMedian value of owner-occupied homes in $1000s"
   ]
  },
  {
   "cell_type": "code",
   "execution_count": null,
   "id": "0975372d-747e-4308-989c-73d94a0ae6ba",
   "metadata": {},
   "outputs": [],
   "source": [
    "df = pd.read_csv(\"HousingData.csv\")\n",
    "df"
   ]
  },
  {
   "cell_type": "code",
   "execution_count": null,
   "id": "e8252fe3-5068-4413-9e67-8b4ca84c0a93",
   "metadata": {},
   "outputs": [],
   "source": [
    "df.info()  # the data has null values >> all of the columns containing null values has float datatype thus imputing them by median"
   ]
  },
  {
   "cell_type": "code",
   "execution_count": null,
   "id": "0cffedf8-3d7b-4e95-b3c3-a4817baa97d9",
   "metadata": {},
   "outputs": [],
   "source": [
    "df.describe()  ## summarising the statsitic"
   ]
  },
  {
   "cell_type": "code",
   "execution_count": null,
   "id": "629bf324-62dc-488e-8021-358e87294d8e",
   "metadata": {},
   "outputs": [],
   "source": [
    "df.isnull().sum()"
   ]
  },
  {
   "cell_type": "code",
   "execution_count": null,
   "id": "4208de02-0090-4ac2-b3e8-3e16f6d6afea",
   "metadata": {},
   "outputs": [],
   "source": [
    "df['CRIM'] = df['CRIM'].fillna(df['CRIM'].median())\n",
    "df['ZN'] = df['ZN'].fillna(df['ZN'].median())\n",
    "df['INDUS'] = df['INDUS'].fillna(df['INDUS'].median())\n",
    "df['CHAS'] = df['CHAS'].fillna(df['CHAS'].median())\n",
    "df['AGE'] = df['AGE'].fillna(df['AGE'].median())\n",
    "df['LSTAT'] = df['LSTAT'].fillna(df['LSTAT'].median())"
   ]
  },
  {
   "cell_type": "code",
   "execution_count": null,
   "id": "727ec506-55c4-4ab5-8abb-c8d50b45e98d",
   "metadata": {},
   "outputs": [],
   "source": [
    "df.isnull().sum()"
   ]
  },
  {
   "cell_type": "markdown",
   "id": "a3a4d884-f882-4e44-86c2-c9a28d8a8029",
   "metadata": {},
   "source": [
    "### Exploratory Data Analysis"
   ]
  },
  {
   "cell_type": "code",
   "execution_count": null,
   "id": "7737d751-06cd-4b6f-87fe-ef4d88152ca9",
   "metadata": {},
   "outputs": [],
   "source": [
    "df.corr()"
   ]
  },
  {
   "cell_type": "markdown",
   "id": "2fb02230-cd81-4479-92ba-c012693af38d",
   "metadata": {},
   "source": [
    "### Analysing the correlated features and performing Univariate analysis"
   ]
  },
  {
   "cell_type": "code",
   "execution_count": null,
   "id": "7c5f627b-27dc-474d-96c6-aec75c2442aa",
   "metadata": {},
   "outputs": [],
   "source": [
    "plt.scatter(df.CRIM, df.MEDV)\n",
    "plt.title(\"Scatter plot\")\n",
    "plt.xlabel(\"Crime Rate\")\n",
    "plt.ylabel(\"Price\")\n",
    "plt.show()\n",
    "\n",
    "## negatively correlated (does make sense)"
   ]
  },
  {
   "cell_type": "code",
   "execution_count": null,
   "id": "83325267-88a6-4915-b406-77de15d3f5b5",
   "metadata": {},
   "outputs": [],
   "source": [
    "sns.regplot(x='RM', y ='MEDV', data=df)   # posivitily correlated "
   ]
  },
  {
   "cell_type": "code",
   "execution_count": null,
   "id": "9e4c0158-8ced-43da-be62-c2d3c6455499",
   "metadata": {},
   "outputs": [],
   "source": [
    "plt.scatter(df.LSTAT, df.MEDV)\n",
    "plt.title(\"Scatter plot\")\n",
    "plt.xlabel(\"Crime Rate\")\n",
    "plt.ylabel(\"Price\")\n",
    "plt.show()\n",
    "\n",
    "# the features are negatively related >> since high value of LSTAT lower socio-economic status and thus the price of houses decreases "
   ]
  },
  {
   "cell_type": "code",
   "execution_count": null,
   "id": "3bd917fd-fab7-44d0-8649-50e240ae81a1",
   "metadata": {},
   "outputs": [],
   "source": [
    "sns.regplot(x='TAX', y ='MEDV', data=df)   ## the feature seems negativily correlated,  which first seems wierd but sometimes \n",
    "#High Taxes in Lower-Value Areas may exist in older or economically burdened municipalities.These towns may raise\n",
    "#taxes to maintain public services despite a shrinking tax base."
   ]
  },
  {
   "cell_type": "markdown",
   "id": "b33b7d02-18e6-4415-b46b-316161b1b4fb",
   "metadata": {},
   "source": [
    "### Multivariate Analysis"
   ]
  },
  {
   "cell_type": "code",
   "execution_count": null,
   "id": "c9614efd-6cb3-4a6b-a461-773486023e61",
   "metadata": {},
   "outputs": [],
   "source": [
    "sns.pairplot(df)"
   ]
  },
  {
   "cell_type": "markdown",
   "id": "d2afa71a-0094-461d-aa76-2d95ea2c0a3d",
   "metadata": {},
   "source": [
    "### lets seperate X, y (independent and dependent columns) "
   ]
  },
  {
   "cell_type": "code",
   "execution_count": null,
   "id": "e4f4d87d-605e-4d85-9b66-c5cb4e92bd28",
   "metadata": {},
   "outputs": [],
   "source": [
    "X = df.iloc[:,:-1]\n",
    "y = df.iloc[:,-1]"
   ]
  },
  {
   "cell_type": "code",
   "execution_count": null,
   "id": "69695c90-e37a-401e-910f-d1db2e8438e8",
   "metadata": {},
   "outputs": [],
   "source": [
    "X"
   ]
  },
  {
   "cell_type": "code",
   "execution_count": null,
   "id": "54bd759d-a8ea-4d06-a6fb-22c57d57029d",
   "metadata": {},
   "outputs": [],
   "source": [
    "y"
   ]
  },
  {
   "cell_type": "markdown",
   "id": "bb6823b2-1297-48dd-a7ec-52fef043e0b8",
   "metadata": {},
   "source": [
    "### lets seperate trianing and testing data"
   ]
  },
  {
   "cell_type": "code",
   "execution_count": null,
   "id": "0b70359d-4402-408a-8e45-f887f49356be",
   "metadata": {},
   "outputs": [],
   "source": [
    "from sklearn.model_selection import train_test_split\n",
    "X_train, X_test, y_train, y_test = train_test_split(X, y, test_size = 0.2, random_state= 82)"
   ]
  },
  {
   "cell_type": "code",
   "execution_count": null,
   "id": "9b123026-65c3-40ab-8443-d3730b6f1868",
   "metadata": {},
   "outputs": [],
   "source": [
    "X_train"
   ]
  },
  {
   "cell_type": "code",
   "execution_count": null,
   "id": "36d16e01-a043-4820-bcf5-47d6d979f723",
   "metadata": {},
   "outputs": [],
   "source": [
    "X_test"
   ]
  },
  {
   "cell_type": "code",
   "execution_count": null,
   "id": "748fa5c8-3e2b-4cec-9e1c-f5ebd1c64a98",
   "metadata": {},
   "outputs": [],
   "source": [
    "y_train"
   ]
  },
  {
   "cell_type": "code",
   "execution_count": null,
   "id": "d032b8f5-9517-456f-939a-41b3db237932",
   "metadata": {},
   "outputs": [],
   "source": [
    "y_test"
   ]
  },
  {
   "cell_type": "markdown",
   "id": "11010c3c-e9e0-4193-b5ad-e70bbe84fa89",
   "metadata": {},
   "source": [
    "### lets scale down the data"
   ]
  },
  {
   "cell_type": "code",
   "execution_count": null,
   "id": "071b3e52-b1c7-4a02-9aa8-95dfe0639829",
   "metadata": {},
   "outputs": [],
   "source": [
    "from sklearn.preprocessing import StandardScaler\n",
    "scaler = StandardScaler()"
   ]
  },
  {
   "cell_type": "code",
   "execution_count": null,
   "id": "fcaddf08-c276-4d4a-85c1-726749395cc9",
   "metadata": {},
   "outputs": [],
   "source": [
    "X_train_scaled = scaler.fit_transform(X_train)\n",
    "X_train_scaled"
   ]
  },
  {
   "cell_type": "code",
   "execution_count": null,
   "id": "53eec4c0-4299-4649-a204-a597115b20cc",
   "metadata": {},
   "outputs": [],
   "source": [
    "X_test_scaled = scaler.transform(X_test)\n",
    "X_test_scaled"
   ]
  },
  {
   "cell_type": "markdown",
   "id": "1395e66f-a1a7-4387-908a-6a9c2597800b",
   "metadata": {},
   "source": [
    "## Model Training"
   ]
  },
  {
   "cell_type": "code",
   "execution_count": null,
   "id": "14242ac6-f8b4-49a7-9489-4bcc54f26ba4",
   "metadata": {},
   "outputs": [],
   "source": [
    "from sklearn.linear_model import LinearRegression, Lasso, Ridge, ElasticNet\n",
    "reg = LinearRegression()"
   ]
  },
  {
   "cell_type": "code",
   "execution_count": null,
   "id": "5ff11493-33b3-41b5-9e1e-023a88baf727",
   "metadata": {},
   "outputs": [],
   "source": [
    "reg.fit(X_train_scaled,y_train)"
   ]
  },
  {
   "cell_type": "code",
   "execution_count": null,
   "id": "06e79055-5174-4ec6-9077-f54cfc58cc32",
   "metadata": {},
   "outputs": [],
   "source": [
    "y_pred = reg.predict(X_test_scaled)\n",
    "y_pred"
   ]
  },
  {
   "cell_type": "markdown",
   "id": "d0611b63-01b9-4067-91df-579e783e4c99",
   "metadata": {},
   "source": [
    "## Some assumptions "
   ]
  },
  {
   "cell_type": "code",
   "execution_count": null,
   "id": "f8ee5d3f-0e4b-4d22-995a-401d6af27cf4",
   "metadata": {},
   "outputs": [],
   "source": [
    "## plot a scatter plot for the prediction\n",
    "plt.scatter(y_test,y_pred)\n",
    "\n",
    "## the plot shows that y_test and y_pred data has a positive linear relationship, also there are some outliers present"
   ]
  },
  {
   "cell_type": "code",
   "execution_count": null,
   "id": "ee17de10-4f7a-4963-92ae-fd1555cd7ea7",
   "metadata": {},
   "outputs": [],
   "source": [
    "## Residuals/ errors\n",
    "\n",
    "residuals= y_test-y_pred\n",
    "residuals"
   ]
  },
  {
   "cell_type": "code",
   "execution_count": null,
   "id": "1fc7eca1-a57b-4adc-916a-fa6580180f41",
   "metadata": {},
   "outputs": [],
   "source": [
    "## Plot this residuals \n",
    "\n",
    "sns.displot(residuals,kind=\"kde\")\n",
    "# the residuals are mostly normaly distributed between -10 to 10 (yes there are some outliers values)"
   ]
  },
  {
   "cell_type": "code",
   "execution_count": null,
   "id": "0b16b177-b07e-4466-b458-15de1a048b5b",
   "metadata": {},
   "outputs": [],
   "source": [
    "from sklearn.metrics import mean_squared_error, r2_score"
   ]
  },
  {
   "cell_type": "code",
   "execution_count": null,
   "id": "ca57327d-8b53-461b-9f8e-7a41e31e6065",
   "metadata": {},
   "outputs": [],
   "source": [
    "mean_squared_error(y_test, y_pred)"
   ]
  },
  {
   "cell_type": "code",
   "execution_count": null,
   "id": "acc4dc05-fe65-44ac-8e4b-0e2999e3b650",
   "metadata": {},
   "outputs": [],
   "source": [
    "r2_score(y_test,y_pred) ## the r2 score is quite decent"
   ]
  },
  {
   "cell_type": "markdown",
   "id": "0c57a9d9-433e-4fb4-a639-e2b8c44916ab",
   "metadata": {},
   "source": [
    "### hyperparameter tuning"
   ]
  },
  {
   "cell_type": "code",
   "execution_count": null,
   "id": "4a945b45-c38f-4cad-b1ef-3142d82a6803",
   "metadata": {},
   "outputs": [],
   "source": [
    "from sklearn.model_selection import train_test_split, GridSearchCV"
   ]
  },
  {
   "cell_type": "code",
   "execution_count": null,
   "id": "b3bdbc1a-6879-4922-a2c8-718f4064048f",
   "metadata": {},
   "outputs": [],
   "source": [
    "alpha_values = [0.01, 0.1, 1, 5, 10, 100]\n",
    "\n",
    "\n",
    "ridge_params = {'alpha' : alpha_values}\n",
    "\n",
    "lasso_params = {'alpha' : alpha_values}\n",
    "\n",
    "elastic_params = {'alpha' : alpha_values,\n",
    "                 'l1_ratio' : [0.1, 0.5, 0.9]}"
   ]
  },
  {
   "cell_type": "code",
   "execution_count": null,
   "id": "d4866e73-c4d4-448a-8f70-b1e35ef3267e",
   "metadata": {},
   "outputs": [],
   "source": [
    "ridge = Ridge()\n",
    "ridge_grid = GridSearchCV(ridge, ridge_params, cv=5, scoring='neg_mean_squared_error')\n",
    "ridge_grid.fit(X_train_scaled, y_train)\n",
    "\n",
    "lasso = Lasso()\n",
    "lasso_grid = GridSearchCV(lasso, lasso_params, cv=5, scoring='neg_mean_squared_error')\n",
    "lasso_grid.fit(X_train_scaled, y_train)\n",
    "\n",
    "elastic = ElasticNet()\n",
    "elastic_grid = GridSearchCV(elastic, elastic_params, cv=5, scoring='neg_mean_squared_error')\n",
    "elastic_grid.fit(X_train_scaled, y_train)\n"
   ]
  },
  {
   "cell_type": "code",
   "execution_count": null,
   "id": "744eff86-8e6a-46fd-a141-f57a42ef254d",
   "metadata": {},
   "outputs": [],
   "source": [
    "# Ridge Results\n",
    "ridge_best = ridge_grid.best_estimator_\n",
    "ridge_pred = ridge_best.predict(X_test_scaled)\n",
    "print(\"Ridge - Best alpha:\", ridge_grid.best_params_['alpha'])\n",
    "print(\"Ridge - Test MSE:\", mean_squared_error(y_test, ridge_pred))\n",
    "print(\"Ridge - r2 score:\", r2_score(y_test, ridge_pred))\n",
    "\n",
    "# Lasso Results\n",
    "lasso_best = lasso_grid.best_estimator_\n",
    "lasso_pred = lasso_best.predict(X_test_scaled)\n",
    "print(\"Lasso - Best alpha:\", lasso_grid.best_params_['alpha'])\n",
    "print(\"Lasso - Test MSE:\", mean_squared_error(y_test, lasso_pred))\n",
    "print(\"Lasso- r2 score:\", r2_score(y_test, lasso_pred))\n",
    "\n",
    "\n",
    "# ElasticNet Results\n",
    "elastic_best = elastic_grid.best_estimator_\n",
    "elastic_pred = elastic_best.predict(X_test_scaled)\n",
    "print(\"ElasticNet - Best params:\", elastic_grid.best_params_)\n",
    "print(\"ElasticNet - Test MSE:\", mean_squared_error(y_test, elastic_pred))\n",
    "print(\"ElasticNet- r2 score:\", r2_score(y_test, elastic_pred))\n",
    "\n"
   ]
  },
  {
   "cell_type": "code",
   "execution_count": null,
   "id": "94770d1e-d4e5-451a-82f8-3c6bb9c94913",
   "metadata": {},
   "outputs": [],
   "source": [
    "## after using hyperparameter tuning these are the results, (*there is not much changes but still it seems Ridge is performing the best with the highest accuracy of 77.8 percent) \n",
    "## also I will be using the linear model for prediction(just for simplification), because 0.1 percent increated accuracy is almost negligible\n",
    "## feel free to use any model you like"
   ]
  },
  {
   "cell_type": "markdown",
   "id": "a76c2208-7567-49be-a2d7-6926dd3c7ffd",
   "metadata": {},
   "source": [
    "## Prediction on the new Data"
   ]
  },
  {
   "cell_type": "code",
   "execution_count": null,
   "id": "3d1fdb49-a2a7-4af9-835e-abe174cae76d",
   "metadata": {},
   "outputs": [],
   "source": [
    "X.sample(1, random_state=42).values"
   ]
  },
  {
   "cell_type": "code",
   "execution_count": null,
   "id": "8776bfdd-4eb3-48e6-b5f4-42c2bbb27997",
   "metadata": {},
   "outputs": [],
   "source": [
    "##transformation of new data\n",
    "scaler.transform(X.sample(1, random_state=42).values)"
   ]
  },
  {
   "cell_type": "code",
   "execution_count": null,
   "id": "3f7de1e4-9189-467c-af73-ccce9fff2564",
   "metadata": {},
   "outputs": [],
   "source": [
    "reg.predict(scaler.transform(X.sample(1, random_state=42).values))"
   ]
  },
  {
   "cell_type": "markdown",
   "id": "6cc62562-913d-42c9-9ee8-cd4530ab77a7",
   "metadata": {},
   "source": [
    "## Pickling the Model for Deployment"
   ]
  },
  {
   "cell_type": "code",
   "execution_count": null,
   "id": "73113c6c-eefb-4bd7-83b0-85d2212c2174",
   "metadata": {},
   "outputs": [],
   "source": [
    "import pickle"
   ]
  },
  {
   "cell_type": "code",
   "execution_count": null,
   "id": "c55b1428-5a1c-419e-940e-a1708053cda3",
   "metadata": {},
   "outputs": [],
   "source": [
    "pickle.dump(reg,open('regmodel.pkl','wb'))"
   ]
  },
  {
   "cell_type": "code",
   "execution_count": null,
   "id": "e41c3ace-ef58-433c-8c6b-a5259c638b88",
   "metadata": {},
   "outputs": [],
   "source": [
    "pickled_model=pickle.load(open('regmodel.pkl','rb'))"
   ]
  },
  {
   "cell_type": "code",
   "execution_count": null,
   "id": "9cb5a723-f04c-4bb3-a2be-21f0e78ade3d",
   "metadata": {},
   "outputs": [],
   "source": [
    "pickled_model.predict(scaler.transform(X.sample(1, random_state=42).values))"
   ]
  },
  {
   "cell_type": "code",
   "execution_count": null,
   "id": "b00c4522-1cce-40cc-95f6-f9c6fabd70de",
   "metadata": {},
   "outputs": [],
   "source": []
  }
 ],
 "metadata": {
  "kernelspec": {
   "display_name": "Python 3",
   "language": "python",
   "name": "python3"
  },
  "language_info": {
   "codemirror_mode": {
    "name": "ipython",
    "version": 3
   },
   "file_extension": ".py",
   "mimetype": "text/x-python",
   "name": "python",
   "nbconvert_exporter": "python",
   "pygments_lexer": "ipython3",
   "version": "3.10.16"
  }
 },
 "nbformat": 4,
 "nbformat_minor": 5
}
